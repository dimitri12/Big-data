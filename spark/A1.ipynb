{
 "cells": [
  {
   "cell_type": "code",
   "execution_count": 4,
   "metadata": {},
   "outputs": [
    {
     "name": "stdout",
     "output_type": "stream",
     "text": [
      "No of Lines in the English Dataset : 1862234\n",
      "No of Lines in the Swedish Dataset : 1862234\n",
      "No of Partitions are : 9\n"
     ]
    }
   ],
   "source": [
    "#!/usr/bin/env python3\n",
    "\n",
    "# Python Script For Question A1\n",
    "\n",
    "\n",
    "import pyspark as pys\n",
    "from pyspark.sql import SparkSession\n",
    "from pyspark.conf import SparkConf\n",
    "\n",
    "\n",
    "#spark_session = SparkSession.builder.master(\"spark://192.168.1.8:7077\").getOrCreate()\n",
    "#sparkC = spark_session.sparkcontext\n",
    "sparkC = pys.SparkContext()\n",
    "\n",
    "lines_en = sparkC.textFile(\"europarl-v7.sv-en.en\")\n",
    "lines_en.cache()\n",
    "\n",
    "lines_sv = sparkC.textFile(\"europarl-v7.sv-en.sv\")\n",
    "lines_sv.cache()\n",
    "\n",
    "# Count The Number of Lines - English Dataset\n",
    "\n",
    "no_of_lines_en = lines_en.count()\n",
    "print(\"No of Lines in the English Dataset : %s\" % no_of_lines_en)\n",
    "\n",
    "# Count The Number of Lines - Swedish Dataset\n",
    "\n",
    "no_of_lines_sv = lines_sv.count()\n",
    "print(\"No of Lines in the Swedish Dataset : %s\" % no_of_lines_sv)\n",
    "\n",
    "# Count The Number of Partitions\n",
    "\n",
    "partitions_en = lines_en.getNumPartitions()\n",
    "\n",
    "print(\"No of Partitions are : %s\" % partitions_en)\n",
    "sparkC.stop()"
   ]
  },
  {
   "cell_type": "code",
   "execution_count": null,
   "metadata": {},
   "outputs": [],
   "source": []
  },
  {
   "cell_type": "code",
   "execution_count": null,
   "metadata": {},
   "outputs": [],
   "source": []
  }
 ],
 "metadata": {
  "kernelspec": {
   "display_name": "Python 3",
   "language": "python",
   "name": "python3"
  },
  "language_info": {
   "codemirror_mode": {
    "name": "ipython",
    "version": 3
   },
   "file_extension": ".py",
   "mimetype": "text/x-python",
   "name": "python",
   "nbconvert_exporter": "python",
   "pygments_lexer": "ipython3",
   "version": "3.6.4"
  }
 },
 "nbformat": 4,
 "nbformat_minor": 2
}
