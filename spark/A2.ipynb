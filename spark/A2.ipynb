{
 "cells": [
  {
   "cell_type": "code",
   "execution_count": 1,
   "metadata": {},
   "outputs": [
    {
     "name": "stdout",
     "output_type": "stream",
     "text": [
      "+--------------------+\n",
      "|               words|\n",
      "+--------------------+\n",
      "|[resumption, of, ...|\n",
      "|[i, declare, resu...|\n",
      "|          [although]|\n",
      "|[you, have, reque...|\n",
      "| [in, the, meantime]|\n",
      "|      [please, rise]|\n",
      "|[(the, house, ros...|\n",
      "|  [madam, president]|\n",
      "|[you, will, be, a...|\n",
      "|[one, of, the, pe...|\n",
      "|[would, it, be, a...|\n",
      "|               [yes]|\n",
      "|[if, the, house, ...|\n",
      "|  [madam, president]|\n",
      "|[i, would, like, ...|\n",
      "|[my, question, re...|\n",
      "|[the, cunha, repo...|\n",
      "|[it, says, that, ...|\n",
      "|[i, believe, that...|\n",
      "|[i, want, to, kno...|\n",
      "+--------------------+\n",
      "only showing top 20 rows\n",
      "\n"
     ]
    }
   ],
   "source": [
    "import pyspark as pys\n",
    "from pyspark.ml.feature import HashingTF, IDF, Tokenizer\n",
    "from pyspark.sql import SparkSession\n",
    "from pyspark.conf import SparkConf\n",
    "\n",
    "\n",
    "#spark_session = SparkSession.builder.master(\"spark://192.168.1.8:7077\").getOrCreate()\n",
    "\n",
    "#sparkC = spark_session.sparkContext\n",
    "sparkC = pys.SparkContext()\n",
    "\n",
    "if __name__ == \"__main__\":\n",
    "\tss = SparkSession.builder.appName(\"Tokenize\").getOrCreate()\n",
    "\tsentences = ss.read.csv(\"/home/ubuntu/europarl-v7.sv-en.en\")\n",
    "\ttk = Tokenizer(inputCol=\"_c0\", outputCol=\"words\")\n",
    "\twords = tk.transform(sentences)\n",
    "\twords.select(\"words\").show()\n",
    "\twords.take(100)\n",
    "sparkC.stop()"
   ]
  },
  {
   "cell_type": "code",
   "execution_count": null,
   "metadata": {},
   "outputs": [],
   "source": []
  }
 ],
 "metadata": {
  "kernelspec": {
   "display_name": "Python 3",
   "language": "python",
   "name": "python3"
  },
  "language_info": {
   "codemirror_mode": {
    "name": "ipython",
    "version": 3
   },
   "file_extension": ".py",
   "mimetype": "text/x-python",
   "name": "python",
   "nbconvert_exporter": "python",
   "pygments_lexer": "ipython3",
   "version": "3.6.4"
  }
 },
 "nbformat": 4,
 "nbformat_minor": 2
}
