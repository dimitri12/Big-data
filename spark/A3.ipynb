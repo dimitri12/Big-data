{
 "cells": [
  {
   "cell_type": "code",
   "execution_count": 1,
   "metadata": {},
   "outputs": [
    {
     "name": "stdout",
     "output_type": "stream",
     "text": [
      "Frequent Words List For English : [('the', 3252599), ('of', 1653973), ('to', 1529446), ('and', 1279772), ('in', 1001483), ('that', 759670), ('a', 757116), ('is', 754117), ('for', 516075), ('I', 500909)] \n",
      "\n",
      "Frequent Words List For Swedish : [('att', 1693573), ('och', 1335128), ('i', 974968), ('som', 892883), ('för', 860804), ('av', 732409), ('det', 704093), ('är', 690588), ('en', 597768), ('till', 497272)] \n",
      "\n"
     ]
    }
   ],
   "source": [
    "import pyspark as pys\n",
    "from pyspark.sql import SparkSession\n",
    "from pyspark.conf import SparkConf\n",
    "\n",
    "\n",
    "#spark_session = SparkSession.builder.master(\"spark://192.168.1.8:7077\").getOrCreate()\n",
    "\n",
    "#sparkC = spark_session.sparkContext\n",
    "sparkC = pys.SparkContext()\n",
    "\n",
    "# Frequents For English\n",
    "\n",
    "frequentWords_en = sparkC.textFile(\"/home/ubuntu/europarl-v7.sv-en.en\")\n",
    "frequentsCount_en = frequentWords_en.flatMap(lambda line: line.split(\" \")).map(lambda word: (word, 1)).reduceByKey(lambda a, b: a + b).sortBy(lambda a: -a[1])\n",
    "frequentsCount_en.count()\n",
    "output_en = frequentsCount_en.take(10)\n",
    "print(\"Frequent Words List For English : %s \\n\" % output_en)\n",
    "\n",
    "# Frequents For Swedish\n",
    "\n",
    "frequentWords_sv = sparkC.textFile(\"/home/ubuntu/europarl-v7.sv-en.sv\")\n",
    "frequentsCount_sv = frequentWords_sv.flatMap(lambda line: line.split(\" \")).map(lambda word: (word, 1)).reduceByKey(lambda a, b: a + b).sortBy(lambda a: -a[1])\n",
    "frequentsCount_sv.count()\n",
    "output_sv = frequentsCount_sv.take(10)\n",
    "print(\"Frequent Words List For Swedish : %s \\n\" % output_sv)\n",
    "\n",
    "sparkC.stop()"
   ]
  },
  {
   "cell_type": "code",
   "execution_count": null,
   "metadata": {},
   "outputs": [],
   "source": []
  },
  {
   "cell_type": "code",
   "execution_count": null,
   "metadata": {},
   "outputs": [],
   "source": []
  }
 ],
 "metadata": {
  "kernelspec": {
   "display_name": "Python 3",
   "language": "python",
   "name": "python3"
  },
  "language_info": {
   "codemirror_mode": {
    "name": "ipython",
    "version": 3
   },
   "file_extension": ".py",
   "mimetype": "text/x-python",
   "name": "python",
   "nbconvert_exporter": "python",
   "pygments_lexer": "ipython3",
   "version": "3.6.4"
  }
 },
 "nbformat": 4,
 "nbformat_minor": 2
}
