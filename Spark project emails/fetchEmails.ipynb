{
 "cells": [
  {
   "cell_type": "code",
   "execution_count": 1,
   "metadata": {},
   "outputs": [],
   "source": [
    "from email.parser import Parser\n",
    "import os\n",
    "import codecs\n",
    "\n",
    "def getEmailBody(file, emailBody): #Get Body from MIME format emails\n",
    "    with codecs.open(file, \"r\", encoding='utf-8', errors='ignore') as f: #some files have different encoding so ignore them\n",
    "        data = f.read()\n",
    " \n",
    "    email = Parser().parsestr(data)\n",
    "    emailBody.append(email.get_payload())"
   ]
  },
  {
   "cell_type": "code",
   "execution_count": 3,
   "metadata": {},
   "outputs": [],
   "source": [
    "rootdir = \"/home/ubuntu/maildir/arnold-j\"\n",
    "emailBody = []\n",
    "for directory, subdirectory, filenames in  os.walk(rootdir):\n",
    "    for filename in filenames:\n",
    "            getEmailBody(os.path.join(directory, filename), emailBody)\n",
    "        \n",
    "\n",
    "with open(\"emailBodyTest.txt\", \"w\") as f:\n",
    "    for message in emailBody:\n",
    "        if message:\n",
    "            f.write(message)\n",
    "            f.write(\"\\n\")  "
   ]
  },
  {
   "cell_type": "code",
   "execution_count": null,
   "metadata": {},
   "outputs": [],
   "source": []
  }
 ],
 "metadata": {
  "kernelspec": {
   "display_name": "Python 3",
   "language": "python",
   "name": "python3"
  },
  "language_info": {
   "codemirror_mode": {
    "name": "ipython",
    "version": 3
   },
   "file_extension": ".py",
   "mimetype": "text/x-python",
   "name": "python",
   "nbconvert_exporter": "python",
   "pygments_lexer": "ipython3",
   "version": "3.5.2"
  }
 },
 "nbformat": 4,
 "nbformat_minor": 2
}
