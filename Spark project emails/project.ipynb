{
 "cells": [
  {
   "cell_type": "code",
   "execution_count": 26,
   "metadata": {},
   "outputs": [],
   "source": [
    "\n",
    "from pyspark.sql import SparkSession\n",
    "import math\n",
    "import time\n",
    "import matplotlib.pyplot as plt\n",
    "import matplotlib.axes as Axes\n",
    "import numpy\n",
    "\n",
    "\n",
    "ss = SparkSession\\\n",
    "        .builder\\\n",
    "        .master(\"spark://localhost:7077\") \\\n",
    "        .appName(\"LDSA14\")\\\n",
    "        .getOrCreate()\n",
    "\n",
    "sc = ss.sparkContext"
   ]
  },
  {
   "cell_type": "code",
   "execution_count": 6,
   "metadata": {},
   "outputs": [],
   "source": [
    "import re\n",
    "\n",
    "def wordMapper(x,line):\n",
    "    length = len(line)\n",
    "    if line.index(x) < length-1:\n",
    "        return (x,(line[line.index(x) +1]))\n",
    "    else:\n",
    "        return (x,('ENDOFLINE'))\n",
    "\n",
    "def to_list(a):\n",
    "    return [a]\n",
    "\n",
    "def append(a, b):\n",
    "    a.append(b)\n",
    "    return a\n",
    "\n",
    "def extend(a, b):\n",
    "    a.extend(b)\n",
    "    return a\n",
    "\n",
    "def countAverageLength(lines):\n",
    "    lineLength = lines.map(lambda s: len(s))\n",
    "    lineLength.persist()\n",
    "    totalLength = lineLength.reduce(lambda a,b:a+b)\n",
    "    totalLines = lines.count()\n",
    "    return math.floor(totalLength/totalLines)"
   ]
  },
  {
   "cell_type": "code",
   "execution_count": 7,
   "metadata": {},
   "outputs": [
    {
     "data": {
      "text/plain": [
       "100"
      ]
     },
     "execution_count": 7,
     "metadata": {},
     "output_type": "execute_result"
    }
   ],
   "source": [
    "# Load text into RDD and cache.\n",
    "#hdfs://localhost:9000/spark/\n",
    "rootLines = sc.textFile('/home/ubuntu/Jupyter/emailBody.txt').cache()\n",
    "rootLines = rootLines.repartition(100)\n",
    "rootLines.count()\n",
    "rootLines.getNumPartitions()\n"
   ]
  },
  {
   "cell_type": "code",
   "execution_count": 8,
   "metadata": {
    "scrolled": true
   },
   "outputs": [
    {
     "name": "stdout",
     "output_type": "stream",
     "text": [
      "[237.73357486724854]\n",
      "[237.73357486724854, 237.10975456237793]\n",
      "[237.73357486724854, 237.10975456237793, 224.55100750923157]\n",
      "[237.73357486724854, 237.10975456237793, 224.55100750923157]\n"
     ]
    }
   ],
   "source": [
    "\n",
    "elapsedTime = []\n",
    "for i in range(0, 3):\n",
    "\n",
    "    startTime = time.time()\n",
    "\n",
    "    # Remove leading/trailing whitespace, filter empty lines and lines starting with certain words or characters.\n",
    "    toFilter = (\"To:\", \"From:\", \"Subject:\", \"cc:\", \"Cc:\", \"CC:\", \"Sent:\", \"--\", \"__\", \"==\")\n",
    "    lines = rootLines.map(lambda x: x.strip()).filter(lambda x: not x.startswith(toFilter)).filter(lambda x: x != \"\")\n",
    "\n",
    "    # Calcualte average length of a line.\n",
    "    averageLength = countAverageLength(lines)\n",
    "\n",
    "    # Split line into words and remove empty words.\n",
    "    lines = lines.map(lambda x: x.split(\" \"))\\\n",
    "                .map(lambda x: [word.strip() for word in x if word.strip() != \"\"])\n",
    "\n",
    "    # Compute word pairs in each line. This yields [[(\"dont\",(\"know.\")), (\"know\",(\"ENDOFLINE\"))]]\n",
    "    lines = lines.map(lambda line: [wordMapper(x,line) for x in line])\n",
    "\n",
    "    # Collect by key. This yields [[(\"dont\",(\"know.\"),(\"even.\")), (\"know\",(\"ENDOFLINE\"))]]\n",
    "    words = lines.flatMap(lambda x: x).combineByKey(to_list, append, extend)\\\n",
    "                .sortByKey()\n",
    "\n",
    "    #Find starting words [\"Hej\",\"Apple\",\"Banana\"]\n",
    "    capitalWords = words.filter(lambda x: '' not in x).filter(lambda x: x[0][0].isupper()).sortByKey()\n",
    "\n",
    "    elapsedTime.append(time.time() - startTime)\n",
    "    print(elapsedTime)\n",
    "print(elapsedTime)"
   ]
  },
  {
   "cell_type": "code",
   "execution_count": null,
   "metadata": {},
   "outputs": [],
   "source": []
  },
  {
   "cell_type": "code",
   "execution_count": 2,
   "metadata": {},
   "outputs": [],
   "source": [
    "#1 core, 2Gb ram\n",
    "twoWorkers_one = [776, 600, 656]\n",
    "\n",
    "#2 cores, 2Gb ram\n",
    "twoWorkers_two = [458, 346, 390]\n",
    "\n",
    "#4 cores, 2Gb ram\n",
    "twoWorkers_four = [300, 231, 280]\n",
    "\n",
    "#6 cores, 2Gb ram\n",
    "twoWorkers_six = [245, 230, 250]\n",
    "\n",
    "#8 cores, 2Gb ram\n",
    "twoWorkers_eight = [237, 237, 260]\n"
   ]
  },
  {
   "cell_type": "code",
   "execution_count": 3,
   "metadata": {},
   "outputs": [
    {
     "name": "stdout",
     "output_type": "stream",
     "text": [
      "[[776 600 656]\n",
      " [458 346 390]\n",
      " [300 231 280]\n",
      " [245 230 250]\n",
      " [237 237 260]]\n"
     ]
    }
   ],
   "source": [
    "arr = numpy.array([twoWorkers_one, twoWorkers_two, twoWorkers_four, twoWorkers_six, twoWorkers_eight])\n",
    "mean = numpy.mean(arr, axis = 1)\n",
    "print(arr)"
   ]
  },
  {
   "cell_type": "code",
   "execution_count": 33,
   "metadata": {},
   "outputs": [
    {
     "data": {
      "image/png": "[encoded data removed]",
      "text/plain": [
       "<matplotlib.figure.Figure at 0x7fa7ef84f358>"
      ]
     },
     "metadata": {},
     "output_type": "display_data"
    }
   ],
   "source": [
    "mpl_fig = plt.figure()\n",
    "\n",
    "plt.plot(arr)\n",
    "plt.ylabel('Execution time')\n",
    "plt.legend( ('1 worker', '2 workers', '3 workers'))\n",
    "\n",
    "plt.axis()\n",
    "plt.axis('auto')\n",
    "\n",
    "plt.show()\n"
   ]
  },
  {
   "cell_type": "code",
   "execution_count": 20,
   "metadata": {},
   "outputs": [
    {
     "data": {
      "text/plain": [
       "[<matplotlib.lines.Line2D at 0x7fa7ef953278>]"
      ]
     },
     "execution_count": 20,
     "metadata": {},
     "output_type": "execute_result"
    },
    {
     "data": {
      "image/png": "[encoded data removed]",
      "text/plain": [
       "<matplotlib.figure.Figure at 0x7fa7efb4fd30>"
      ]
     },
     "metadata": {},
     "output_type": "display_data"
    }
   ],
   "source": [
    "plt.plot([])"
   ]
  },
  {
   "cell_type": "code",
   "execution_count": 5,
   "metadata": {},
   "outputs": [
    {
     "name": "stdout",
     "output_type": "stream",
     "text": [
      "Stevinson Ranch is now reporting to get with this? If you this year's lunch next winter of t= \n",
      "Jayendran Rajamony \n",
      "Party/Dept. \n",
      "APEC process can send out of March'01 NP-15 (P, Next Week & COO Jan Johnson \\(E-mail\\)'\" \n",
      "GEN_RPM numeric \n",
      "DISCLAIMER] \n",
      "IF-ELPO/SJ\t\t\tIF-ELPO/SJ\t\t\tGDP-ELPO/SJ\t\t\tIF-ELPO/SJ \n",
      "AAB/AgAAgAIAAFABBgAYAP8AAAAAAAABDwAIAhAAUQEGABgA/wAAAAAAAAEPAAgCEABSAQYAGAD/\n"
     ]
    }
   ],
   "source": [
    "import random\n",
    "\n",
    "plusminus = random.randrange(-10,11)\n",
    "capitalWordDict = capitalWords.countByKey() #Create dictionary of all starting words\n",
    "newEmail = []\n",
    "\n",
    "firstWord = random.choice(list(capitalWordDict.keys()))\n",
    "newEmail.append(firstWord)\n",
    "\n",
    "previousWord = firstWord\n",
    "while True: #Take random first word, then iterate from this word, taking random following word. If endofline is met, repeat.\n",
    "    followingWord = random.choice(words.lookup(previousWord)[0])\n",
    "    if followingWord != 'ENDOFLINE':\n",
    "            newEmail.append(followingWord)\n",
    "    else:\n",
    "        if (averageLength + plusminus) <= len(newEmail):\n",
    "            break\n",
    "        followingWord = random.choice(list(capitalWordDict.keys()))\n",
    "        newEmail.append(\"\\n\" + followingWord)\n",
    "    previousWord = followingWord\n",
    "\n",
    "email = ' '.join(newEmail)\n",
    "print(email)"
   ]
  },
  {
   "cell_type": "code",
   "execution_count": 21,
   "metadata": {},
   "outputs": [],
   "source": [
    "sc.stop()"
   ]
  },
  {
   "cell_type": "code",
   "execution_count": null,
   "metadata": {},
   "outputs": [],
   "source": []
  },
  {
   "cell_type": "code",
   "execution_count": null,
   "metadata": {},
   "outputs": [],
   "source": []
  }
 ],
 "metadata": {
  "kernelspec": {
   "display_name": "Python 3",
   "language": "python",
   "name": "python3"
  },
  "language_info": {
   "codemirror_mode": {
    "name": "ipython",
    "version": 3
   },
   "file_extension": ".py",
   "mimetype": "text/x-python",
   "name": "python",
   "nbconvert_exporter": "python",
   "pygments_lexer": "ipython3",
   "version": "3.5.2"
  }
 },
 "nbformat": 4,
 "nbformat_minor": 2
}
